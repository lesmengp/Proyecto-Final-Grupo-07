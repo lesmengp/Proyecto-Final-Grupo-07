{
  "cells": [
    {
      "cell_type": "markdown",
      "metadata": {
        "colab_type": "text",
        "id": "view-in-github"
      },
      "source": [
        "<a href=\"https://colab.research.google.com/github/lesmengp/Proyecto-Final-Grupo-07/blob/Rama-JACH/ETL/yelp_review.ipynb\" target=\"_parent\"><img src=\"https://colab.research.google.com/assets/colab-badge.svg\" alt=\"Open In Colab\"/></a>"
      ]
    },
    {
      "cell_type": "markdown",
      "metadata": {},
      "source": [
        "# EDA Preliminar - review.json"
      ]
    },
    {
      "cell_type": "code",
      "execution_count": null,
      "metadata": {
        "id": "1Ag5Er1dg_3a"
      },
      "outputs": [],
      "source": [
        "pip install google.cloud"
      ]
    },
    {
      "cell_type": "code",
      "execution_count": null,
      "metadata": {
        "id": "hYEYpk27hJnw"
      },
      "outputs": [],
      "source": [
        "pip install gcsfs"
      ]
    },
    {
      "cell_type": "code",
      "execution_count": null,
      "metadata": {
        "id": "hvcVlG-RhM8z"
      },
      "outputs": [],
      "source": [
        "pip install google-cloud-storage"
      ]
    },
    {
      "cell_type": "code",
      "execution_count": null,
      "metadata": {
        "id": "xCVjSeMhhT_3"
      },
      "outputs": [],
      "source": [
        "from google.colab import auth\n",
        "auth.authenticate_user()"
      ]
    },
    {
      "cell_type": "code",
      "execution_count": null,
      "metadata": {
        "id": "43cyTl-EhOpC"
      },
      "outputs": [],
      "source": [
        "import pandas as pd\n",
        "import gcsfs\n",
        "\n",
        "# Definir la ruta al archivo en Google Cloud Storage\n",
        "project_name = 'Proyecto Final - Henry'  # Reemplaza 'your-project-name' con el nombre de tu proyecto\n",
        "bucket_name = 'gmy'\n",
        "folder_name = 'Yelp'\n",
        "file_name = 'review.json'\n",
        "gcs_path = f'gs://{bucket_name}/{folder_name}/{file_name}'\n",
        "\n",
        "# Cargar el archivo JSON en un DataFrame\n",
        "with gcsfs.GCSFileSystem(project=project_name).open(gcs_path, 'rb') as f:\n",
        "    df = pd.read_json(f)\n",
        "\n",
        "# Ahora \"df\" contiene los datos del archivo JSON en forma de DataFrame\n"
      ]
    },
    {
      "cell_type": "code",
      "execution_count": null,
      "metadata": {
        "id": "PAzOJpRWhtR8"
      },
      "outputs": [],
      "source": [
        "df"
      ]
    }
  ],
  "metadata": {
    "colab": {
      "authorship_tag": "ABX9TyPNSNtKIRIjAJ2yVu9BfEPH",
      "include_colab_link": true,
      "provenance": []
    },
    "kernelspec": {
      "display_name": "Python 3",
      "name": "python3"
    },
    "language_info": {
      "name": "python"
    }
  },
  "nbformat": 4,
  "nbformat_minor": 0
}
